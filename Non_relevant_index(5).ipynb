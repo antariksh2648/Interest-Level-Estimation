{
  "nbformat": 4,
  "nbformat_minor": 0,
  "metadata": {
    "colab": {
      "name": "Non relevant index(5).ipynb",
      "provenance": [],
      "authorship_tag": "ABX9TyPGB7oP4gytNnJEB6qCvZYz",
      "include_colab_link": true
    },
    "kernelspec": {
      "name": "python3",
      "display_name": "Python 3"
    },
    "language_info": {
      "name": "python"
    }
  },
  "cells": [
    {
      "cell_type": "markdown",
      "metadata": {
        "id": "view-in-github",
        "colab_type": "text"
      },
      "source": [
        "<a href=\"https://colab.research.google.com/github/antariksh2648/Interest-Level-Estimation/blob/main/Non_relevant_index(5).ipynb\" target=\"_parent\"><img src=\"https://colab.research.google.com/assets/colab-badge.svg\" alt=\"Open In Colab\"/></a>"
      ]
    },
    {
      "cell_type": "code",
      "execution_count": null,
      "metadata": {
        "colab": {
          "base_uri": "https://localhost:8080/"
        },
        "id": "N7Uy1eTveKy8",
        "outputId": "455a5db5-151c-4c0e-d2bc-cca9d7caf2bd"
      },
      "outputs": [
        {
          "output_type": "stream",
          "name": "stdout",
          "text": [
            "          0    1\n",
            "134966  599  307\n",
            "134999  599  466\n",
            "134975  599  327\n",
            "134950  599  225\n",
            "134979  599  341\n"
          ]
        }
      ],
      "source": [
        "import numpy as np\n",
        "import pandas as pd\n",
        "\n",
        "filepath = r\"/content/genres+ratings.csv\"\n",
        "df = pd.read_csv(filepath)\n",
        "\n",
        "list1 = []\n",
        "for i in range(df.shape[0]):\n",
        "    for j in range(df.shape[1]):\n",
        "        if df.iloc[i, j] == 0:\n",
        "            list1.append((i, j))\n",
        "        \n",
        "list2 = pd.DataFrame(list1)\n",
        "#print(list2)\n",
        "#print(list2[list2.iloc[:, 0] == 1])\n",
        "\n",
        "#list 4 just sorts based on row index\n",
        "list4={}\n",
        "for i in range(df.shape[0]):\n",
        "    list4[\"l\" + str(i)] = list2[list2.iloc[:, 0] == i] \n",
        "\n",
        "#list5 has 5 random choices for each row\n",
        "list5 = {}    \n",
        "for i in range(df.shape[0]):\n",
        "    list5[\"l\" + str(i)] = list4[\"l\" + str(i)].sample(n=5)\n",
        "    \n",
        "print(list5[\"l\" + str(599)]) #any index from 0 to 599\n",
        "#print(list5)"
      ]
    }
  ]
}